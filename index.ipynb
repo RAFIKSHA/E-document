{
  "nbformat": 4,
  "nbformat_minor": 0,
  "metadata": {
    "colab": {
      "provenance": [],
      "include_colab_link": true
    },
    "kernelspec": {
      "name": "python3",
      "display_name": "Python 3"
    },
    "language_info": {
      "name": "python"
    }
  },
  "cells": [
    {
      "cell_type": "markdown",
      "metadata": {
        "id": "view-in-github",
        "colab_type": "text"
      },
      "source": [
        "<a href=\"https://colab.research.google.com/github/RAFIKSHA/XST_Transformation_CSV_to_DB/blob/main/index.ipynb\" target=\"_parent\"><img src=\"https://colab.research.google.com/assets/colab-badge.svg\" alt=\"Open In Colab\"/></a>"
      ]
    },
    {
      "cell_type": "markdown",
      "source": [],
      "metadata": {
        "id": "TU4c5NL8xnj1"
      }
    },
    {
      "cell_type": "code",
      "source": [
        "# importing packages import pandas as pd\n",
        "\n",
        "import pandas as pd\n",
        "\n",
        "#Importing Github Repository\n",
        "!git clone https://github.com/RAFIKSHA/XST_Transforming_CSV_into_DB.git"
      ],
      "metadata": {
        "id": "PW0-tV6Axo1w"
      },
      "execution_count": null,
      "outputs": []
    },
    {
      "cell_type": "code",
      "execution_count": null,
      "metadata": {
        "id": "4z68Dcraxi5w"
      },
      "outputs": [],
      "source": [
        "from tables.table import Column\n",
        "# Preprocess data\n",
        "def preprocess_data(df):\n",
        "    # Split combined data in the 'state & district' column\n",
        "    #df[['district_code','state_name', 'district_name']] = df['State & District'].str.split(\",\", expand=True)\n",
        "    lst = df['State & District'].str.split(\",\", expand=True)\n",
        "    #print(\"List: \", lst)\n",
        "    df.drop(columns=['State & District'], inplace=True)\n",
        "\n",
        "    df.insert(0,column = \"District_Code\", value= lst[0].str.replace(\"district_code:\",\"\"))\n",
        "    df.insert(1,column = \"State_Name\", value= lst[1].str.replace(\"state_name:\",\"\"))\n",
        "    df.insert(2,column = \"District_Name\", value= lst[2].str.replace(\"district_name:\",\"\"))\n",
        "\n",
        "    return df\n",
        "\n",
        "# Preprocess the data\n",
        "preprocessed_set= preprocess_data(dataset.copy())\n",
        "\n",
        "# Displaying preprocessed data\n",
        "print(\"Preprocessed Data is:\")\n",
        "preprocessed_set.head()"
      ]
    }
  ]
}